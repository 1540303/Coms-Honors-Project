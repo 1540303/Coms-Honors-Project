{
 "cells": [
  {
   "cell_type": "code",
   "execution_count": null,
   "metadata": {
    "collapsed": false
   },
   "outputs": [],
   "source": [
    "%matplotlib inline"
   ]
  },
  {
   "cell_type": "markdown",
   "metadata": {},
   "source": [
    "\n",
    ".. _tut_viz_epochs:\n",
    "\n",
    "Visualize Epochs data\n",
    "=====================\n",
    "\n",
    "\n"
   ]
  },
  {
   "cell_type": "code",
   "execution_count": null,
   "metadata": {
    "collapsed": false
   },
   "outputs": [],
   "source": [
    "import os.path as op\n",
    "\n",
    "import mne\n",
    "\n",
    "data_path = 'C:/Anaconda2/Lib/site-packages/examples/mne-testing-data-master'\n",
    "raw = mne.io.read_raw_fif(op.join(data_path, 'sample_audvis_raw.fif'))\n",
    "events = mne.read_events(op.join(data_path, 'sample_audvis_raw-eve.fif'))\n",
    "picks = mne.pick_types(raw.info, meg='grad')\n",
    "epochs = mne.Epochs(raw, events, [1, 2], picks=picks)"
   ]
  },
  {
   "cell_type": "markdown",
   "metadata": {},
   "source": [
    "This tutorial focuses on visualization of epoched data. All of the functions\n",
    "introduced here are basically high level matplotlib functions with built in\n",
    "intelligence to work with epoched data. All the methods return a handle to\n",
    "matplotlib figure instance.\n",
    "\n",
    "All plotting functions start with ``plot``. Let's start with the most\n",
    "obvious. :func:`mne.Epochs.plot` offers an interactive browser that allows\n",
    "rejection by hand when called in combination with a keyword ``block=True``.\n",
    "This blocks the execution of the script until the browser window is closed.\n",
    "\n"
   ]
  },
  {
   "cell_type": "code",
   "execution_count": null,
   "metadata": {
    "collapsed": false
   },
   "outputs": [],
   "source": [
    "epochs.plot(block=True)"
   ]
  },
  {
   "cell_type": "markdown",
   "metadata": {},
   "source": [
    "The numbers at the top refer to the event id of the epoch. We only have\n",
    "events with id numbers of 1 and 2 since we included only those when\n",
    "constructing the epochs.\n",
    "\n",
    "Since we did no artifact correction or rejection, there are epochs\n",
    "contaminated with blinks and saccades. For instance, epoch number 9 (see\n",
    "numbering at the bottom) seems to be contaminated by a blink (scroll to the\n",
    "bottom to view the EOG channel). This epoch can be marked for rejection by\n",
    "clicking on top of the browser window. The epoch should turn red when you\n",
    "click it. This means that it will be dropped as the browser window is closed.\n",
    "You should check out `help` at the lower left corner of the window for more\n",
    "information about the interactive features.\n",
    "\n",
    "To plot individual channels as an image, where you see all the epochs at one\n",
    "glance, you can use function :func:`mne.Epochs.plot_image`. It shows the\n",
    "amplitude of the signal over all the epochs plus an average of the\n",
    "activation.\n",
    "\n"
   ]
  },
  {
   "cell_type": "code",
   "execution_count": null,
   "metadata": {
    "collapsed": false
   },
   "outputs": [],
   "source": [
    "epochs.plot_image(97)\n",
    "\n",
    "# You also have functions for plotting channelwise information arranged into a\n",
    "# shape of the channel array. The image plotting uses automatic scaling by\n",
    "# default, but noisy channels and different channel types can cause the scaling\n",
    "# to be a bit off. Here we define the limits by hand.\n",
    "epochs.plot_topo_image(vmin=-200, vmax=200, title='ERF images')"
   ]
  }
 ],
 "metadata": {
  "kernelspec": {
   "display_name": "Python 2",
   "language": "python",
   "name": "python2"
  },
  "language_info": {
   "codemirror_mode": {
    "name": "ipython",
    "version": 2
   },
   "file_extension": ".py",
   "mimetype": "text/x-python",
   "name": "python",
   "nbconvert_exporter": "python",
   "pygments_lexer": "ipython2",
   "version": "2.7.11"
  }
 },
 "nbformat": 4,
 "nbformat_minor": 0
}
